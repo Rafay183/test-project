{
 "cells": [
  {
   "cell_type": "markdown",
   "id": "c57df5e0",
   "metadata": {},
   "source": [
    "# Control Flow\n",
    "- conditional statements\n",
    "    - if statement\n",
    "    - if else\n",
    "    - elif\n",
    "   "
   ]
  },
  {
   "cell_type": "code",
   "execution_count": 11,
   "id": "e90f4de8",
   "metadata": {},
   "outputs": [
    {
     "name": "stdout",
     "output_type": "stream",
     "text": [
      "Enter a number 15\n",
      "Enter another number 16\n",
      "Num2 is not greater than Num1\n"
     ]
    }
   ],
   "source": [
    "num1 = int(input(\"Enter a number \"))\n",
    "num2 = int(input(\"Enter another number \"))\n",
    "\n",
    "if num1 > num2:\n",
    "    print (\"Num1 is greater than Num2\")\n",
    "    \n",
    "    \n",
    "else:\n",
    "    print(\"Num2 is not greater than Num1\")"
   ]
  },
  {
   "cell_type": "code",
   "execution_count": 19,
   "id": "cc1d9513",
   "metadata": {},
   "outputs": [
    {
     "name": "stdout",
     "output_type": "stream",
     "text": [
      "Enter a first Name hello\n"
     ]
    },
    {
     "ename": "NameError",
     "evalue": "name 'rafay' is not defined",
     "output_type": "error",
     "traceback": [
      "\u001b[1;31m---------------------------------------------------------------------------\u001b[0m",
      "\u001b[1;31mNameError\u001b[0m                                 Traceback (most recent call last)",
      "Cell \u001b[1;32mIn[19], line 4\u001b[0m\n\u001b[0;32m      1\u001b[0m fname \u001b[38;5;241m=\u001b[39m \u001b[38;5;28mstr\u001b[39m(\u001b[38;5;28minput\u001b[39m(\u001b[38;5;124m\"\u001b[39m\u001b[38;5;124mEnter a first Name \u001b[39m\u001b[38;5;124m\"\u001b[39m))\n\u001b[0;32m      2\u001b[0m \u001b[38;5;66;03m#lname = str(input(\"Enter Last Name \"))\u001b[39;00m\n\u001b[1;32m----> 4\u001b[0m \u001b[38;5;28;01mif\u001b[39;00m fname\u001b[38;5;241m==\u001b[39mrafay:\n\u001b[0;32m      5\u001b[0m     \u001b[38;5;28mprint\u001b[39m (\u001b[38;5;124m\"\u001b[39m\u001b[38;5;124myou are logged in\u001b[39m\u001b[38;5;124m\"\u001b[39m)\n\u001b[0;32m      8\u001b[0m \u001b[38;5;28;01melse\u001b[39;00m:\n",
      "\u001b[1;31mNameError\u001b[0m: name 'rafay' is not defined"
     ]
    }
   ],
   "source": [
    "fname = str(input(\"Enter a first Name \"))\n",
    "#lname = str(input(\"Enter Last Name \"))\n",
    "\n",
    "if fname==rafay:\n",
    "    print (\"you are logged in\")\n",
    "    \n",
    "    \n",
    "else:\n",
    "    print(\"invalid user\")"
   ]
  },
  {
   "cell_type": "code",
   "execution_count": 14,
   "id": "e660b6a7",
   "metadata": {},
   "outputs": [
    {
     "name": "stdout",
     "output_type": "stream",
     "text": [
      "Enter a number 9\n",
      "Enter another number 8\n",
      "Num1 is greater than Num2\n"
     ]
    }
   ],
   "source": [
    "num1 = int(input(\"Enter a number \"))\n",
    "num2 = int(input(\"Enter another number \"))\n",
    "\n",
    "if num1 > num2:\n",
    "    print (\"Num1 is greater than Num2\")\n",
    "    \n",
    "    \n",
    "else:\n",
    "    print(\"Num2 is not greater than Num1\")"
   ]
  },
  {
   "cell_type": "code",
   "execution_count": 17,
   "id": "2fd44394",
   "metadata": {},
   "outputs": [
    {
     "name": "stdout",
     "output_type": "stream",
     "text": [
      "Ënter a number5\n",
      "number is odd\n"
     ]
    }
   ],
   "source": [
    "num1 = int(input(\"Ënter a number\"))\n",
    "#num2 = int(input(\"Enter another number\"))\n",
    "\n",
    "if num1%2==0 :\n",
    "    print (\"Number is even\")\n",
    "    \n",
    "else :\n",
    "    print (\"number is odd\")"
   ]
  },
  {
   "cell_type": "code",
   "execution_count": 3,
   "id": "046521db",
   "metadata": {},
   "outputs": [
    {
     "name": "stdout",
     "output_type": "stream",
     "text": [
      "Enter a Number123456\n"
     ]
    },
    {
     "data": {
      "text/plain": [
       "6"
      ]
     },
     "execution_count": 3,
     "metadata": {},
     "output_type": "execute_result"
    }
   ],
   "source": [
    "num1 = int(input(\"Enter a Number\"))\n",
    "\n",
    "num1 = str(num1)\n",
    "\n",
    "int(num1[-1])\n"
   ]
  },
  {
   "cell_type": "code",
   "execution_count": 4,
   "id": "914d212d",
   "metadata": {},
   "outputs": [
    {
     "name": "stdout",
     "output_type": "stream",
     "text": [
      "Enter a Number12345678\n"
     ]
    },
    {
     "data": {
      "text/plain": [
       "8"
      ]
     },
     "execution_count": 4,
     "metadata": {},
     "output_type": "execute_result"
    }
   ],
   "source": [
    "int(input(\"Enter a Number\")[-1])"
   ]
  },
  {
   "cell_type": "code",
   "execution_count": 5,
   "id": "ace7b537",
   "metadata": {},
   "outputs": [
    {
     "data": {
      "text/plain": [
       "89"
      ]
     },
     "execution_count": 5,
     "metadata": {},
     "output_type": "execute_result"
    }
   ],
   "source": [
    "123456789%100"
   ]
  },
  {
   "cell_type": "code",
   "execution_count": 9,
   "id": "748dcc3c",
   "metadata": {},
   "outputs": [
    {
     "name": "stdout",
     "output_type": "stream",
     "text": [
      "Enter username12345\n",
      "ok\n"
     ]
    }
   ],
   "source": [
    "username = input(\"Enter username\")\n",
    "if len(username)>10:\n",
    "    print(\"Bigname\")\n",
    "else:\n",
    "    print(\"ok\")"
   ]
  },
  {
   "cell_type": "code",
   "execution_count": 11,
   "id": "1dd50420",
   "metadata": {},
   "outputs": [
    {
     "name": "stdout",
     "output_type": "stream",
     "text": [
      "Enter a username12345678978\n"
     ]
    },
    {
     "data": {
      "text/plain": [
       "'Bigname'"
      ]
     },
     "execution_count": 11,
     "metadata": {},
     "output_type": "execute_result"
    }
   ],
   "source": [
    "\"Bigname\" if len(input(\"Enter a username\"))>10 else \"ok\""
   ]
  },
  {
   "cell_type": "code",
   "execution_count": 12,
   "id": "9510f8ba",
   "metadata": {},
   "outputs": [],
   "source": [
    "import random"
   ]
  },
  {
   "cell_type": "code",
   "execution_count": 13,
   "id": "f35fd7a0",
   "metadata": {},
   "outputs": [
    {
     "name": "stdout",
     "output_type": "stream",
     "text": [
      "Enter your guess Number 1-103\n",
      "you loose!\n"
     ]
    }
   ],
   "source": [
    "guess = int(input(\"Enter your guess Number 1-10\"))\n",
    "num = random.randint(1,10)\n",
    "if guess == num:\n",
    "    print (\"you win!\")\n",
    "    \n",
    "else: \n",
    "    print(\"you loose!\")"
   ]
  },
  {
   "cell_type": "code",
   "execution_count": 19,
   "id": "ce39ce8a",
   "metadata": {},
   "outputs": [
    {
     "name": "stdout",
     "output_type": "stream",
     "text": [
      "Enter your guess Number 1-108\n",
      "you guessed 8 but lucky number was 6. Try again!\n"
     ]
    }
   ],
   "source": [
    "guess = int(input(\"Enter your guess Number 1-10\"))\n",
    "num = random.randint(1,10)\n",
    "if guess == num:\n",
    "    print(f\"you guessed {guess} you win!\")\n",
    "    \n",
    "else:\n",
    "    print(f\"you guessed {guess} but lucky number was {num}. Try again!\")"
   ]
  },
  {
   "cell_type": "code",
   "execution_count": 9,
   "id": "b6248a94",
   "metadata": {},
   "outputs": [
    {
     "name": "stdout",
     "output_type": "stream",
     "text": [
      "Please mention your budget1000\n",
      "12 eggs are added into your bucket\n"
     ]
    }
   ],
   "source": [
    "store = int(input(\"Please mention your budget\"))\n",
    "\n",
    "if  store > 200:\n",
    "    print (\"12 eggs are added into your bucket\")\n",
    "    \n",
    "elif store > 1000:\n",
    "    print(\"meat is added into your bucket\")\n",
    "    \n",
    "else :\n",
    "    print(\"roza rakhte hain\")"
   ]
  },
  {
   "cell_type": "code",
   "execution_count": 42,
   "id": "1e3ecad9",
   "metadata": {},
   "outputs": [
    {
     "name": "stdout",
     "output_type": "stream",
     "text": [
      "Enter your height8\n",
      "tall man\n"
     ]
    }
   ],
   "source": [
    "height = float(input(\"Enter your height\"))\n",
    "\n",
    "if height > 7:\n",
    "    print(\"tall man\")\n",
    "    \n",
    "elif height > 5:\n",
    "    print(\"average man\")\n",
    "    \n",
    "else :\n",
    "    print(\"short\")"
   ]
  },
  {
   "cell_type": "raw",
   "id": "f0916274",
   "metadata": {},
   "source": [
    "Task: A Company decided to give bonus of 5% to employee if his/her year if service if more than 5 years\n",
    "10% employee if his/her year of service us nore than 10 years.\n",
    "15% employee if his/her year of service is more than 15 years.\n",
    "\n",
    "ask user of their and year of service and print:\n",
    "- the salary\n",
    "- the bonus amount\n",
    "- the total amount credited\n"
   ]
  },
  {
   "cell_type": "code",
   "execution_count": 7,
   "id": "9a69a557",
   "metadata": {},
   "outputs": [
    {
     "name": "stdout",
     "output_type": "stream",
     "text": [
      "Enter your Salary: 30000\n",
      "enter your year of services7\n",
      "your increased bonus is 15000.0\n",
      "Your New Salary is 45000.0\n"
     ]
    }
   ],
   "source": [
    "salary = int(input(\"Enter your Salary: \"))\n",
    "yos = float(input(\"enter your year of services\"))\n",
    "\n",
    "if yos > 5:\n",
    "        bonus = salary*.5\n",
    "        new1 = bonus+salary\n",
    "        print (f\"your increased bonus is {bonus}\")\n",
    "        print(f\"Your New Salary is {new1}\")\n",
    "        \n",
    "    \n",
    "    \n",
    "elif yos > 10:\n",
    "        bonus = salary*.10 \n",
    "        new1 = bonus+salary\n",
    "        print (f\"your increased bonus is {bonus}\")\n",
    "        print(f\"Your New Salary is {new1}\")\n",
    "        \n",
    "    \n",
    "elif yos > 15:\n",
    "        bonus = salary*.15\n",
    "        new1 = bonus+salary\n",
    "        print (f\"your increased bonus is {bonus}\")\n",
    "        print(f\"Your New Salary is {new1}\")\n",
    "    \n",
    "    \n",
    "else :\n",
    "    print(\"you're not eligible for the bonus\")"
   ]
  },
  {
   "cell_type": "raw",
   "id": "dc63204d",
   "metadata": {},
   "source": [
    "Task: Wite a program to calculate the electricity bill\n",
    "    (accept number of unit from user) according to the following criteria:\n",
    "    \n",
    "    Unit                                                  Price\n",
    "  1:  <= 100                                                   5\n",
    "  2:  <= 300                                                  10 (first 100 pr 5 rupay) remaining 200 pr 10 rupay\n",
    "  3:  > 300                                                   15 (first 100 pr 5 rupay) next 200 pr 10, remaining pr 15bill\n",
    "    "
   ]
  },
  {
   "cell_type": "code",
   "execution_count": 9,
   "id": "ff037c41",
   "metadata": {},
   "outputs": [
    {
     "name": "stdout",
     "output_type": "stream",
     "text": [
      "Enter your units: 500\n",
      "You hace consumed 500 and your bill is 5500\n"
     ]
    }
   ],
   "source": [
    "units = int(input(\"Enter your units: \"))\n",
    "\n",
    "if units <=100:\n",
    "    \n",
    "    bill = units*5\n",
    "    terriff = (\"within 100\")\n",
    "    print(f\"Your total units are {units} your teriff is {terriff} your current bill is {bill}\")\n",
    "    \n",
    "elif units <=300:\n",
    "        bill = 100*5 + (units-100)*10\n",
    "        terriff = (\"within 300\")\n",
    "        print(f\"Your total units are {units} your teriff is {terriff} your current bill is {bill}\")\n",
    "        \n",
    "else :\n",
    "    bill = 100*5 + 200*10 + (units-300)*15\n",
    "    \n",
    "    print(f\"You hace consumed {units} and your bill is {bill}\")"
   ]
  },
  {
   "cell_type": "code",
   "execution_count": null,
   "id": "8d5bebd5",
   "metadata": {},
   "outputs": [],
   "source": []
  },
  {
   "cell_type": "code",
   "execution_count": null,
   "id": "fd3069cb",
   "metadata": {},
   "outputs": [],
   "source": []
  }
 ],
 "metadata": {
  "kernelspec": {
   "display_name": "Python 3 (ipykernel)",
   "language": "python",
   "name": "python3"
  },
  "language_info": {
   "codemirror_mode": {
    "name": "ipython",
    "version": 3
   },
   "file_extension": ".py",
   "mimetype": "text/x-python",
   "name": "python",
   "nbconvert_exporter": "python",
   "pygments_lexer": "ipython3",
   "version": "3.11.3"
  }
 },
 "nbformat": 4,
 "nbformat_minor": 5
}
